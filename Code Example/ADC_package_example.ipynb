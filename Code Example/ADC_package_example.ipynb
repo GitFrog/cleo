{
 "cells": [
  {
   "cell_type": "code",
   "execution_count": 1,
   "id": "06337f22",
   "metadata": {},
   "outputs": [],
   "source": [
    "# Import library \n",
    "from ADC.function import *"
   ]
  },
  {
   "cell_type": "markdown",
   "id": "0b65780d",
   "metadata": {},
   "source": [
    "## POSTCODE\n",
    "\n"
   ]
  },
  {
   "cell_type": "code",
   "execution_count": 2,
   "id": "55d102c9",
   "metadata": {},
   "outputs": [
    {
     "data": {
      "text/plain": [
       "'M2N6Z8'"
      ]
     },
     "execution_count": 2,
     "metadata": {},
     "output_type": "execute_result"
    }
   ],
   "source": [
    "clean_postcode('M2n-6Z8')"
   ]
  },
  {
   "cell_type": "code",
   "execution_count": 3,
   "id": "3ae233d0",
   "metadata": {},
   "outputs": [
    {
     "data": {
      "text/plain": [
       "True"
      ]
     },
     "execution_count": 3,
     "metadata": {},
     "output_type": "execute_result"
    }
   ],
   "source": [
    "validate_postal('M2N6Z8')\n"
   ]
  },
  {
   "cell_type": "code",
   "execution_count": 4,
   "id": "ca5b1cf5",
   "metadata": {},
   "outputs": [
    {
     "data": {
      "text/plain": [
       "False"
      ]
     },
     "execution_count": 4,
     "metadata": {},
     "output_type": "execute_result"
    }
   ],
   "source": [
    "validate_postal('M2N608')"
   ]
  },
  {
   "cell_type": "markdown",
   "id": "44b83d57",
   "metadata": {},
   "source": [
    "## Address \n",
    "Based on information from Canada Post (https://prd11.wsl.canadapost.ca/cpc/en/support/articles/addressing-guidelines/civic-address.page):\n",
    "\n",
    "+ Proper Case or CAPITALIZED - Addresses must follow proper case formatting or be fully capitalized.\n",
    "\n",
    "+ Unit number: \n",
    "\n",
    "1. Before the civic number with a hyphen in between(10-123 Main St)\n",
    "\n",
    "2. After the street type, using an acceptable unit identifier (APT, SUITE, UNIT)\n",
    "\n",
    "+ Civic number: You should place the civic number before the street name.\n",
    "\n",
    "+ Street name: The street name is the official name recognized by each municipality.\n",
    "\n",
    "+ Street type: You should place the street type after the street name in abbreviated format\n",
    "\n",
    "+ Street direction: Street direction should be the last element in the civic address line and should be in abbreviated format"
   ]
  },
  {
   "cell_type": "markdown",
   "id": "7e33a265",
   "metadata": {},
   "source": [
    "### For a single address"
   ]
  },
  {
   "cell_type": "code",
   "execution_count": 5,
   "id": "46ca5b0d",
   "metadata": {},
   "outputs": [
    {
     "data": {
      "text/plain": [
       "'#45 35 Finch Ave E'"
      ]
     },
     "execution_count": 5,
     "metadata": {},
     "output_type": "execute_result"
    }
   ],
   "source": [
    "# Please apply this function only on address column (without city and postcode)\n",
    "clean_address('unite 45 35 Finch aven east')"
   ]
  },
  {
   "cell_type": "code",
   "execution_count": 6,
   "id": "1563f6b7",
   "metadata": {},
   "outputs": [
    {
     "data": {
      "text/plain": [
       "'35 Finch Ave E'"
      ]
     },
     "execution_count": 6,
     "metadata": {},
     "output_type": "execute_result"
    }
   ],
   "source": [
    "# The LIO geocoder API requires address input, in order to improve the result accuracy, we are asked to remove the Unit num. \n",
    "clean_address_without_unitnum('unite 45 35 Finch aven east')"
   ]
  },
  {
   "cell_type": "markdown",
   "id": "b0354314",
   "metadata": {},
   "source": [
    "### Batch address processing"
   ]
  },
  {
   "cell_type": "code",
   "execution_count": 7,
   "id": "03dbcfcc",
   "metadata": {},
   "outputs": [],
   "source": [
    "df=pd.DataFrame({'address':['15-45 windermere Street','#45 105 C The Quenswy Aven ','103 The Queenswy Sqrs unit 56',\n",
    "                           '125 pter lane East',' m2m1z4','apt65 55 B bishop west ave',\n",
    "                           '438-78 University road','15 windermere prk','23-23 jumbo Field','55 A bishop ave',\n",
    "                           '600 Grenfell Drive']})"
   ]
  },
  {
   "cell_type": "code",
   "execution_count": 8,
   "id": "52339079",
   "metadata": {},
   "outputs": [
    {
     "data": {
      "text/html": [
       "<div>\n",
       "<style scoped>\n",
       "    .dataframe tbody tr th:only-of-type {\n",
       "        vertical-align: middle;\n",
       "    }\n",
       "\n",
       "    .dataframe tbody tr th {\n",
       "        vertical-align: top;\n",
       "    }\n",
       "\n",
       "    .dataframe thead th {\n",
       "        text-align: right;\n",
       "    }\n",
       "</style>\n",
       "<table border=\"1\" class=\"dataframe\">\n",
       "  <thead>\n",
       "    <tr style=\"text-align: right;\">\n",
       "      <th></th>\n",
       "      <th>address</th>\n",
       "    </tr>\n",
       "  </thead>\n",
       "  <tbody>\n",
       "    <tr>\n",
       "      <th>0</th>\n",
       "      <td>15-45 windermere Street</td>\n",
       "    </tr>\n",
       "    <tr>\n",
       "      <th>1</th>\n",
       "      <td>#45 105 C The Quenswy Aven</td>\n",
       "    </tr>\n",
       "    <tr>\n",
       "      <th>2</th>\n",
       "      <td>103 The Queenswy Sqrs unit 56</td>\n",
       "    </tr>\n",
       "    <tr>\n",
       "      <th>3</th>\n",
       "      <td>125 pter lane East</td>\n",
       "    </tr>\n",
       "    <tr>\n",
       "      <th>4</th>\n",
       "      <td>m2m1z4</td>\n",
       "    </tr>\n",
       "    <tr>\n",
       "      <th>5</th>\n",
       "      <td>apt65 55 B bishop west ave</td>\n",
       "    </tr>\n",
       "    <tr>\n",
       "      <th>6</th>\n",
       "      <td>438-78 University road</td>\n",
       "    </tr>\n",
       "    <tr>\n",
       "      <th>7</th>\n",
       "      <td>15 windermere prk</td>\n",
       "    </tr>\n",
       "    <tr>\n",
       "      <th>8</th>\n",
       "      <td>23-23 jumbo Field</td>\n",
       "    </tr>\n",
       "    <tr>\n",
       "      <th>9</th>\n",
       "      <td>55 A bishop ave</td>\n",
       "    </tr>\n",
       "    <tr>\n",
       "      <th>10</th>\n",
       "      <td>600 Grenfell Drive</td>\n",
       "    </tr>\n",
       "  </tbody>\n",
       "</table>\n",
       "</div>"
      ],
      "text/plain": [
       "                          address\n",
       "0         15-45 windermere Street\n",
       "1     #45 105 C The Quenswy Aven \n",
       "2   103 The Queenswy Sqrs unit 56\n",
       "3              125 pter lane East\n",
       "4                          m2m1z4\n",
       "5      apt65 55 B bishop west ave\n",
       "6          438-78 University road\n",
       "7               15 windermere prk\n",
       "8               23-23 jumbo Field\n",
       "9                 55 A bishop ave\n",
       "10             600 Grenfell Drive"
      ]
     },
     "execution_count": 8,
     "metadata": {},
     "output_type": "execute_result"
    }
   ],
   "source": [
    "# here is our sample df looks like\n",
    "df"
   ]
  },
  {
   "cell_type": "code",
   "execution_count": 9,
   "id": "7418f994",
   "metadata": {},
   "outputs": [
    {
     "data": {
      "text/html": [
       "<div>\n",
       "<style scoped>\n",
       "    .dataframe tbody tr th:only-of-type {\n",
       "        vertical-align: middle;\n",
       "    }\n",
       "\n",
       "    .dataframe tbody tr th {\n",
       "        vertical-align: top;\n",
       "    }\n",
       "\n",
       "    .dataframe thead th {\n",
       "        text-align: right;\n",
       "    }\n",
       "</style>\n",
       "<table border=\"1\" class=\"dataframe\">\n",
       "  <thead>\n",
       "    <tr style=\"text-align: right;\">\n",
       "      <th></th>\n",
       "      <th>index</th>\n",
       "      <th>address</th>\n",
       "      <th>unit_num</th>\n",
       "      <th>building_num</th>\n",
       "      <th>civic_num</th>\n",
       "      <th>road_name</th>\n",
       "      <th>road_type</th>\n",
       "      <th>Street_direction</th>\n",
       "    </tr>\n",
       "  </thead>\n",
       "  <tbody>\n",
       "    <tr>\n",
       "      <th>0</th>\n",
       "      <td>0</td>\n",
       "      <td>15-45 windermere Street</td>\n",
       "      <td>15</td>\n",
       "      <td></td>\n",
       "      <td>45</td>\n",
       "      <td>Windermere</td>\n",
       "      <td>St</td>\n",
       "      <td></td>\n",
       "    </tr>\n",
       "    <tr>\n",
       "      <th>1</th>\n",
       "      <td>1</td>\n",
       "      <td>#45 105 C The Quenswy Aven</td>\n",
       "      <td>45</td>\n",
       "      <td>C</td>\n",
       "      <td>45</td>\n",
       "      <td>105 The Quenswy</td>\n",
       "      <td>Ave</td>\n",
       "      <td></td>\n",
       "    </tr>\n",
       "    <tr>\n",
       "      <th>2</th>\n",
       "      <td>2</td>\n",
       "      <td>103 The Queenswy Sqrs unit 56</td>\n",
       "      <td>56</td>\n",
       "      <td></td>\n",
       "      <td>103</td>\n",
       "      <td>The Queenswy</td>\n",
       "      <td>Sq</td>\n",
       "      <td></td>\n",
       "    </tr>\n",
       "    <tr>\n",
       "      <th>3</th>\n",
       "      <td>3</td>\n",
       "      <td>125 pter lane East</td>\n",
       "      <td></td>\n",
       "      <td></td>\n",
       "      <td>125</td>\n",
       "      <td>Pter</td>\n",
       "      <td>Ln</td>\n",
       "      <td>E</td>\n",
       "    </tr>\n",
       "    <tr>\n",
       "      <th>4</th>\n",
       "      <td>4</td>\n",
       "      <td>m2m1z4</td>\n",
       "      <td></td>\n",
       "      <td></td>\n",
       "      <td></td>\n",
       "      <td></td>\n",
       "      <td></td>\n",
       "      <td></td>\n",
       "    </tr>\n",
       "    <tr>\n",
       "      <th>5</th>\n",
       "      <td>5</td>\n",
       "      <td>apt65 55 B bishop west ave</td>\n",
       "      <td>65</td>\n",
       "      <td>B</td>\n",
       "      <td>55</td>\n",
       "      <td>Bishop</td>\n",
       "      <td>Ave</td>\n",
       "      <td>W</td>\n",
       "    </tr>\n",
       "    <tr>\n",
       "      <th>6</th>\n",
       "      <td>6</td>\n",
       "      <td>438-78 University road</td>\n",
       "      <td>438</td>\n",
       "      <td></td>\n",
       "      <td>78</td>\n",
       "      <td>University</td>\n",
       "      <td>Rd</td>\n",
       "      <td></td>\n",
       "    </tr>\n",
       "    <tr>\n",
       "      <th>7</th>\n",
       "      <td>7</td>\n",
       "      <td>15 windermere prk</td>\n",
       "      <td></td>\n",
       "      <td></td>\n",
       "      <td>15</td>\n",
       "      <td>Windermere</td>\n",
       "      <td>Park</td>\n",
       "      <td></td>\n",
       "    </tr>\n",
       "    <tr>\n",
       "      <th>8</th>\n",
       "      <td>8</td>\n",
       "      <td>23-23 jumbo Field</td>\n",
       "      <td>23</td>\n",
       "      <td></td>\n",
       "      <td>23</td>\n",
       "      <td>Jumbo</td>\n",
       "      <td>Fld</td>\n",
       "      <td></td>\n",
       "    </tr>\n",
       "    <tr>\n",
       "      <th>9</th>\n",
       "      <td>9</td>\n",
       "      <td>55 A bishop ave</td>\n",
       "      <td></td>\n",
       "      <td>A</td>\n",
       "      <td>55</td>\n",
       "      <td>Bishop</td>\n",
       "      <td>Ave</td>\n",
       "      <td></td>\n",
       "    </tr>\n",
       "    <tr>\n",
       "      <th>10</th>\n",
       "      <td>10</td>\n",
       "      <td>600 Grenfell Drive</td>\n",
       "      <td></td>\n",
       "      <td></td>\n",
       "      <td>600</td>\n",
       "      <td>Grenfell</td>\n",
       "      <td>Dr</td>\n",
       "      <td></td>\n",
       "    </tr>\n",
       "  </tbody>\n",
       "</table>\n",
       "</div>"
      ],
      "text/plain": [
       "    index                        address unit_num building_num civic_num  \\\n",
       "0       0        15-45 windermere Street       15                     45   \n",
       "1       1    #45 105 C The Quenswy Aven        45            C        45   \n",
       "2       2  103 The Queenswy Sqrs unit 56       56                    103   \n",
       "3       3             125 pter lane East                             125   \n",
       "4       4                         m2m1z4                                   \n",
       "5       5     apt65 55 B bishop west ave       65            B        55   \n",
       "6       6         438-78 University road      438                     78   \n",
       "7       7              15 windermere prk                              15   \n",
       "8       8              23-23 jumbo Field       23                     23   \n",
       "9       9                55 A bishop ave                     A        55   \n",
       "10     10             600 Grenfell Drive                             600   \n",
       "\n",
       "          road_name road_type Street_direction  \n",
       "0        Windermere        St                   \n",
       "1   105 The Quenswy       Ave                   \n",
       "2      The Queenswy        Sq                   \n",
       "3              Pter        Ln                E  \n",
       "4                                               \n",
       "5            Bishop       Ave                W  \n",
       "6        University        Rd                   \n",
       "7        Windermere      Park                   \n",
       "8             Jumbo       Fld                   \n",
       "9            Bishop       Ave                   \n",
       "10         Grenfell        Dr                   "
      ]
     },
     "execution_count": 9,
     "metadata": {},
     "output_type": "execute_result"
    }
   ],
   "source": [
    "# rest index first, then we can have use index to go through the loop \n",
    "df.reset_index(inplace=True)\n",
    "df['index'].apply(lambda x: component_addr(x, df.at[x, \"address\"], df))\n",
    "df"
   ]
  },
  {
   "cell_type": "code",
   "execution_count": null,
   "id": "12fb0960",
   "metadata": {},
   "outputs": [],
   "source": []
  }
 ],
 "metadata": {
  "interpreter": {
   "hash": "10977c209c582002602f913f06904eed7668ce6656b2002db59445f9136b1d53"
  },
  "kernelspec": {
   "display_name": "Python 3.9.7 ('base')",
   "language": "python",
   "name": "python3"
  },
  "language_info": {
   "codemirror_mode": {
    "name": "ipython",
    "version": 3
   },
   "file_extension": ".py",
   "mimetype": "text/x-python",
   "name": "python",
   "nbconvert_exporter": "python",
   "pygments_lexer": "ipython3",
   "version": "3.9.7"
  }
 },
 "nbformat": 4,
 "nbformat_minor": 5
}
